{
 "cells": [
  {
   "cell_type": "markdown",
   "metadata": {},
   "source": [
    "Model Accuracy Prediction"
   ]
  },
  {
   "cell_type": "code",
   "execution_count": null,
   "metadata": {
    "vscode": {
     "languageId": "plaintext"
    }
   },
   "outputs": [],
   "source": [
    "from datetime import datetime\n",
    "datetime.now().strftime('%m_%d_%Y_%H_%M_%S')"
   ]
  },
  {
   "cell_type": "code",
   "execution_count": null,
   "metadata": {
    "vscode": {
     "languageId": "plaintext"
    }
   },
   "outputs": [],
   "source": [
    "import matplotlib.pyplot as plt\n",
    "\n",
    "complexities = {\"Easy\": 8, \"Medium\": 6, \"Hard\": 6}  # Replace with actual counts from analysis\n",
    "plt.pie(complexities.values(), labels=complexities.keys(), autopct='%1.1f%%', startangle=140, colors=['#7fc97f', '#beaed4', '#fdc086'])\n",
    "plt.title(\"MCQ Difficulty Distribution\")\n",
    "plt.show()\n"
   ]
  },
  {
   "cell_type": "code",
   "execution_count": null,
   "metadata": {
    "vscode": {
     "languageId": "plaintext"
    }
   },
   "outputs": [],
   "source": [
    "mcq_data = {\"Category 1\": [5, 1], \"Category 2\": [6, 2]}  # [Correct, Incorrect]\n",
    "categories = list(mcq_data.keys())\n",
    "correct = [data[0] for data in mcq_data.values()]\n",
    "incorrect = [data[1] for data in mcq_data.values()]\n",
    "\n",
    "plt.bar(categories, correct, label='Correct', color='green')\n",
    "plt.bar(categories, incorrect, bottom=correct, label='Incorrect', color='red')\n",
    "plt.xlabel(\"Categories\")\n",
    "plt.ylabel(\"Number of Questions\")\n",
    "plt.title(\"Quiz Performance by Category\")\n",
    "plt.legend()\n",
    "plt.show()\n"
   ]
  },
  {
   "cell_type": "code",
   "execution_count": null,
   "metadata": {
    "vscode": {
     "languageId": "plaintext"
    }
   },
   "outputs": [],
   "source": [
    "import matplotlib.pyplot as plt\n",
    "\n",
    "tokens = {\"Prompt Tokens\": cb.prompt_tokens, \"Completion Tokens\": cb.completion_tokens, \"Total Tokens\": cb.total_tokens}\n",
    "plt.bar(tokens.keys(), tokens.values(), color='skyblue')\n",
    "plt.xlabel(\"Token Type\")\n",
    "plt.ylabel(\"Token Count\")\n",
    "plt.title(\"Token Usage Breakdown\")\n",
    "plt.show()\n"
   ]
  },
  {
   "cell_type": "code",
   "execution_count": null,
   "metadata": {
    "vscode": {
     "languageId": "plaintext"
    }
   },
   "outputs": [],
   "source": [
    "correct_answers = ['a', 'b', 'c', 'a', 'd', 'a', 'c']  # Replace with actual data\n",
    "plt.hist(correct_answers, bins=4, color='purple', rwidth=0.8)\n",
    "plt.xlabel(\"Correct Options\")\n",
    "plt.ylabel(\"Frequency\")\n",
    "plt.title(\"Correct Answer Distribution\")\n",
    "plt.show()\n"
   ]
  },
  {
   "cell_type": "code",
   "execution_count": null,
   "metadata": {
    "vscode": {
     "languageId": "plaintext"
    }
   },
   "outputs": [],
   "source": [
    "import re\n",
    "import matplotlib.pyplot as plt\n",
    "\n",
    "# Define text_chunks (replace with your actual text data)\n",
    "# Example:\n",
    "text_chunks = [\n",
    "    \"This is the first chunk of text.\",\n",
    "    \"Here's the second chunk, with some more words.\",\n",
    "    \"And finally, the third chunk.\"\n",
    "]\n",
    "\n",
    "word_count = [len(re.findall(r'\\w+', chunk)) for chunk in text_chunks]\n",
    "plt.plot(range(len(word_count)), word_count, marker='o', color='orange')\n",
    "plt.xlabel(\"Chunk Number\")\n",
    "plt.ylabel(\"Word Count\")\n",
    "plt.title(\"Word Count Per Text Chunk\")\n",
    "plt.grid(True)\n",
    "plt.show()"
   ]
  },
  {
   "cell_type": "code",
   "execution_count": null,
   "metadata": {
    "vscode": {
     "languageId": "plaintext"
    }
   },
   "outputs": [],
   "source": [
    "import matplotlib.pyplot as plt\n",
    "import seaborn as sns\n",
    "from collections import Counter\n",
    "\n",
    "# Sample complexity data for quiz questions\n",
    "complexity_analysis = [\n",
    "    \"simple\", \"medium\", \"hard\", \"medium\", \"simple\",\n",
    "    \"simple\", \"hard\", \"medium\", \"hard\", \"medium\",\n",
    "    \"simple\", \"medium\", \"medium\", \"hard\", \"simple\"\n",
    "]\n",
    "\n",
    "# Count the occurrences of each complexity level\n",
    "complexity_counts = Counter(complexity_analysis)\n",
    "\n",
    "# Extract data for the graph\n",
    "levels = list(complexity_counts.keys())  # Complexity levels (e.g., simple, medium, hard)\n",
    "counts = list(complexity_counts.values())  # Counts for each level\n",
    "\n",
    "# Plotting the complexity analysis graph\n",
    "plt.figure(figsize=(8, 6))\n",
    "sns.barplot(x=levels, y=counts, palette=\"viridis\")\n",
    "\n",
    "# Adding labels and title\n",
    "plt.title(\"Quiz Complexity Analysis\", fontsize=16)\n",
    "plt.xlabel(\"Complexity Level\", fontsize=14)\n",
    "plt.ylabel(\"Number of Questions\", fontsize=14)\n",
    "plt.xticks(fontsize=12)\n",
    "plt.yticks(fontsize=12)\n",
    "\n",
    "# Show the graph\n",
    "plt.grid(axis=\"y\", linestyle=\"--\", alpha=0.7)\n",
    "plt.show()\n"
   ]
  }
 ],
 "metadata": {
  "language_info": {
   "name": "python"
  }
 },
 "nbformat": 4,
 "nbformat_minor": 2
}
